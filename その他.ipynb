{
 "cells": [
  {
   "cell_type": "markdown",
   "metadata": {},
   "source": [
    "## コマンドを実行する\n",
    "\n",
    "os.system は、あまり使わないほうがよく、\n",
    "subprocess.run を使うほうがよい。"
   ]
  },
  {
   "cell_type": "code",
   "execution_count": 8,
   "metadata": {},
   "outputs": [
    {
     "name": "stdout",
     "output_type": "stream",
     "text": [
      " ドライブ C のボリューム ラベルは Windows です\n",
      " ボリューム シリアル番号は A3A2-8CE5 です\n",
      "\n",
      " c:\\Users\\kouda\\drive\\OneDrive\\勉強\\Udemy_Python のディレクトリ\n",
      "\n",
      "2023/11/23 (木)  16:38    <DIR>          .\n",
      "2023/10/31 (火)  21:10    <DIR>          ..\n",
      "2023/11/22 (水)  23:56             3,250 .gitignore\n",
      "2023/11/23 (木)  12:55    <DIR>          file\n",
      "2023/10/12 (木)  20:27             3,391 miniColum.ipynb\n",
      "2023/10/04 (水)  20:42    <DIR>          python_files\n",
      "2023/11/22 (水)  23:52            11,551 Pythonの基本の型.ipynb\n",
      "2023/11/23 (木)  16:43             8,402 その他.ipynb\n",
      "2023/10/05 (木)  20:29            14,162 クラス.ipynb\n",
      "2023/11/23 (木)  13:39            11,648 ファイル操作.ipynb\n",
      "2023/10/05 (木)  18:49             1,748 メモ.ipynb\n",
      "2023/10/05 (木)  19:17           373,101 ライブラリ・ビルトイン.ipynb\n",
      "2023/10/04 (水)  19:59             7,847 例外処理.ipynb\n",
      "2023/09/22 (金)  18:34             8,549 数字と文字列の基本.ipynb\n",
      "2023/09/25 (月)  17:37             7,584 条件分やPythonの記述の仕方.ipynb\n",
      "2023/11/23 (木)  09:46            15,808 関数とか.ipynb\n",
      "              12 個のファイル             467,041 バイト\n",
      "               4 個のディレクトリ  528,976,977,920 バイトの空き領域\n",
      "\n"
     ]
    }
   ],
   "source": [
    "import subprocess\n",
    "\n",
    "# コマンドを実行する\n",
    "result = subprocess.run(['dir'], shell=True, text=True, capture_output=True)\n",
    "\n",
    "# 結果の出力\n",
    "print(result.stdout)\n"
   ]
  },
  {
   "cell_type": "markdown",
   "metadata": {},
   "source": [
    "## datetimeについて\n",
    "\n",
    "日付を表す。  strftime でフォーマットを指定して文字列に変換できる。\n",
    "\n",
    " - %Y: 年を4桁の数字で（例：2023）\n",
    " - %y: 年の下2桁（例：23）\n",
    " - %m: 月を2桁の数字で（01〜12）\n",
    " - %B: 月のフルネーム（January, February, ...）\n",
    " - %b: 月の短縮形（Jan, Feb, ...）\n",
    " - %d: 日を2桁の数字で（01〜31）\n",
    " - %A: 曜日のフルネーム（Sunday, Monday, ...）\n",
    " - %a: 曜日の短縮形（Sun, Mon, ...）\n",
    " - %H: 時間（24時間表記）を2桁の数字で（00〜23）\n",
    " - %I: 時間（12時間表記）を2桁の数字で（01〜12）\n",
    " - %p: AMまたはPMの指定\n",
    " - %M: 分を2桁の数字で（00〜59）\n",
    " - %S: 秒を2桁の数字で（00〜59）"
   ]
  },
  {
   "cell_type": "code",
   "execution_count": 11,
   "metadata": {},
   "outputs": [
    {
     "name": "stdout",
     "output_type": "stream",
     "text": [
      "datetime.IsoCalendarDate(year=2023, week=47, weekday=4)\n",
      "2023-11-23 16:58:42\n",
      "10:20:30\n",
      "2023-11-16 16:58:42.916006\n"
     ]
    }
   ],
   "source": [
    "import datetime\n",
    "\n",
    "now = datetime.datetime.now()\n",
    "print(now.isocalendar())\n",
    "print(now.strftime('%Y-%m-%d %H:%M:%S'))\n",
    "\n",
    "time = datetime.time(hour=10, minute=20, second=30)\n",
    "print(time)\n",
    "\n",
    "d = datetime.timedelta(weeks=1)\n",
    "before_1week = now - d\n",
    "print(before_1week)"
   ]
  },
  {
   "cell_type": "code",
   "execution_count": null,
   "metadata": {},
   "outputs": [],
   "source": []
  }
 ],
 "metadata": {
  "kernelspec": {
   "display_name": "Python 3",
   "language": "python",
   "name": "python3"
  },
  "language_info": {
   "codemirror_mode": {
    "name": "ipython",
    "version": 3
   },
   "file_extension": ".py",
   "mimetype": "text/x-python",
   "name": "python",
   "nbconvert_exporter": "python",
   "pygments_lexer": "ipython3",
   "version": "3.11.3"
  }
 },
 "nbformat": 4,
 "nbformat_minor": 2
}
