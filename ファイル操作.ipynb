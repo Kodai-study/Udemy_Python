{
 "cells": [
  {
   "cell_type": "code",
   "execution_count": 1,
   "metadata": {},
   "outputs": [],
   "source": [
    "from datetime import datetime\n",
    "with open('file/ファイル操作.txt', 'w', encoding='utf-8') as f:\n",
    "    f.write('ファイル操作\\n')\n",
    "\n",
    "    now = datetime.now()\n",
    "\n",
    "    print(f\"今日は{now.year}年{now.month}月{now.day}日です。\",\n",
    "          f\"時刻は{now.hour}時{now.minute}分{now.second}秒です。\", sep='\\n', file=f)\n"
   ]
  },
  {
   "cell_type": "code",
   "execution_count": 2,
   "metadata": {},
   "outputs": [],
   "source": [
    "s = \"\"\"\\\n",
    "AAA\n",
    "BBB\n",
    "CCC\n",
    "DDD\\\n",
    "\"\"\"\n",
    "\n",
    "with open('file/Multi_Line.txt', 'w', encoding='utf-8') as f:\n",
    "    f.write(s)"
   ]
  },
  {
   "cell_type": "code",
   "execution_count": 5,
   "metadata": {},
   "outputs": [
    {
     "name": "stdout",
     "output_type": "stream",
     "text": [
      "AAA\n",
      "BBB\n",
      "CCC\n",
      "DDD"
     ]
    }
   ],
   "source": [
    "with open('file/Multi_Line.txt', 'r', encoding='utf-8') as f:\n",
    "    while True:\n",
    "        line = f.readline()\n",
    "        if not line:\n",
    "            break\n",
    "        print(line,end='')"
   ]
  },
  {
   "cell_type": "code",
   "execution_count": 8,
   "metadata": {},
   "outputs": [
    {
     "name": "stdout",
     "output_type": "stream",
     "text": [
      "AA , A\n",
      " , BB , B\n",
      " , CC , C\n",
      " , DD , D , "
     ]
    }
   ],
   "source": [
    "chunk = 2\n",
    "\n",
    "with open('file/Multi_Line.txt', 'r', encoding='utf-8') as f:\n",
    "    while True:\n",
    "        line = f.read(chunk)\n",
    "        if not line:\n",
    "            break\n",
    "        print(line,end=' , ')"
   ]
  },
  {
   "cell_type": "code",
   "execution_count": 11,
   "metadata": {},
   "outputs": [
    {
     "name": "stdout",
     "output_type": "stream",
     "text": [
      "0\n",
      "AAA\n",
      "3\n",
      "\n",
      "BBB\n",
      "\n",
      "2\n",
      "A\n",
      "B\n"
     ]
    }
   ],
   "source": [
    "with open('file/Multi_Line.txt', 'r', encoding='utf-8') as f:\n",
    "    # 今の位置を取得\n",
    "    print(f.tell())\n",
    "    print(f.read(3))\n",
    "    print(f.tell())\n",
    "    print(f.read(5))\n",
    "    print(f.seek(2))\n",
    "    print(f.read(3))"
   ]
  },
  {
   "cell_type": "markdown",
   "metadata": {},
   "source": [
    "## テンプレートを使った文字列の作成\n",
    "stringモジュールを使って、文字列のテンプレートを使い、$から始まる部分をプログラムで変数の値に置き換えることができる。\n",
    "\n",
    "この時、取ってくる文字列をプログラム内でなく別ファイルにしておくことで、テンプレートの文字列を別で管理することができる。"
   ]
  },
  {
   "cell_type": "code",
   "execution_count": 12,
   "metadata": {},
   "outputs": [
    {
     "name": "stdout",
     "output_type": "stream",
     "text": [
      "こんにちは、山田太郎 さん！\n",
      "\n",
      "あなたの注文番号 123456 についての更新情報があります。\n",
      "\n",
      "注文商品: Pythonプログラミング入門\n",
      "注文日時: 2023-11-21\n",
      "\n",
      "さらに情報が必要な場合は、当社ウェブサイトをご確認ください。\n",
      "\n",
      "ありがとうございました！\n",
      "\n",
      "敬具,\n",
      "\n",
      "カスタマーサポートチーム\n"
     ]
    }
   ],
   "source": [
    "import string\n",
    "data = {\n",
    "    \"name\": \"山田太郎\",\n",
    "    \"order_number\": \"123456\",\n",
    "    \"product_name\": \"Pythonプログラミング入門\",\n",
    "    \"order_date\": \"2023-11-21\"\n",
    "}\n",
    "\n",
    "with open('./file/template_string.txt', 'r', encoding='utf-8') as f:\n",
    "    template = string.Template( f.read())\n",
    "    content = template.substitute(data)\n",
    "    print(content)"
   ]
  },
  {
   "cell_type": "markdown",
   "metadata": {},
   "source": [
    "### CSVの読み書き\n",
    "\n",
    "基本的に、dictを使って項目名と値を扱う事が多い。"
   ]
  },
  {
   "cell_type": "code",
   "execution_count": null,
   "metadata": {},
   "outputs": [],
   "source": []
  },
  {
   "cell_type": "code",
   "execution_count": 16,
   "metadata": {},
   "outputs": [
    {
     "name": "stdout",
     "output_type": "stream",
     "text": [
      "{'Name': '佐藤', 'Age': '28', 'Sex': 'Man'}\n",
      "{'Name': '鈴木', 'Age': '35', 'Sex': 'Woman'}\n"
     ]
    }
   ],
   "source": [
    "import csv\n",
    "\n",
    "colums = ['Name','Age','Sex']\n",
    "with open('./file/CSVファイル.csv', 'w', encoding='utf-8') as f:\n",
    "    writer = csv.DictWriter(f,colums)\n",
    "    writer.writeheader()\n",
    "    writer.writerow({'Name': '佐藤', 'Age': 28, 'Sex': 'Man'})\n",
    "    writer.writerow({'Name': '鈴木', 'Age': 35, 'Sex': 'Woman'})\n",
    "\n",
    "\n",
    "\n",
    "with open('./file/CSVファイル.csv', 'r', encoding='utf-8') as f:\n",
    "    reader = csv.DictReader(f)\n",
    "    for row in reader:\n",
    "        print(row)"
   ]
  },
  {
   "cell_type": "markdown",
   "metadata": {},
   "source": [
    "### ファイルの操作\n",
    "\n",
    "Pythonのosモジュールを使うと、ファイルの操作ができる。"
   ]
  },
  {
   "cell_type": "code",
   "execution_count": 32,
   "metadata": {},
   "outputs": [
    {
     "name": "stdout",
     "output_type": "stream",
     "text": [
      "True\n",
      "True\n",
      "False\n",
      "True\n"
     ]
    }
   ],
   "source": [
    "import pathlib\n",
    "import os\n",
    "\n",
    "print(os.path.exists('./file/CSVファイル.csv'))\n",
    "print(os.path.isfile('./file/CSVファイル.csv'))\n",
    "print(os.path.isdir('./file/CSVファイル.csv'))\n",
    "print(os.path.isdir('./file'))\n",
    "\n",
    "if os.path.exists('./file/renamed.txt'):\n",
    "    os.rename('./file/renamed.txt', './file/hoge.txt')\n",
    "\n",
    "elif os.path.exists('./file/hoge.txt'):\n",
    "    os.rename('./file/hoge.txt', './file/renamed.txt')\n",
    "\n",
    "# os.symlink('./file/template_string.txt','./symlink.txt')\n",
    "if os.path.exists('./file/empty.txt'):\n",
    "    os.remove('./file/empty.txt')\n",
    "\n",
    "pathlib.Path('./file/empty.txt').touch()"
   ]
  },
  {
   "cell_type": "markdown",
   "metadata": {},
   "source": [
    "### ファイルの検索・コピー・削除  に使えるモジュール\n",
    "\n",
    "globを使うと、正規表現を使ってファイルを検索することができる。\n",
    "shutilを使うと、ファイルのコピー・削除を行うことができる。"
   ]
  },
  {
   "cell_type": "code",
   "execution_count": 44,
   "metadata": {},
   "outputs": [
    {
     "name": "stdout",
     "output_type": "stream",
     "text": [
      "['./file\\\\empty.txt', './file\\\\hoge.txt', './file\\\\Multi_Line.txt', './file\\\\template_string.txt', './file\\\\ファイル操作.txt']\n",
      "['./file\\\\test_dir1', './file\\\\test_dir2']\n",
      "['./file\\\\test_dir1\\\\empty.txt', './file\\\\test_dir1\\\\empty2.txt', './file\\\\test_dir2\\\\empty.txt']\n"
     ]
    }
   ],
   "source": [
    "import glob\n",
    "import shutil\n",
    "import os\n",
    "import time\n",
    "\n",
    "print(glob.glob('./file/*.txt'))\n",
    "print(glob.glob('./file/test_*'))\n",
    "\n",
    "if not os.path.exists('./file/test_copy'):\n",
    "    os.mkdir('./file/test_copy')\n",
    "\n",
    "# コピー元とコピー先を指定してコピー\n",
    "shutil.copy('./file/test_dir1/empty.txt', './file/test_copy/empty1.txt')\n",
    "shutil.copy('./file/test_dir2/empty.txt', './file/test_copy/empty2.txt')\n",
    "\n",
    "time.sleep(5)\n",
    "\n",
    "# ファイルごと消すにはこれが便利\n",
    "shutil.rmtree('./file/test_copy')\n",
    "print(glob.glob('./file/test_*/*.txt'))"
   ]
  },
  {
   "cell_type": "markdown",
   "metadata": {},
   "source": [
    "### ファイルの圧縮・解凍\n",
    "\n",
    "tarとzipどちらにも同じようなモジュールが存在する。\n",
    "ファイルを選択して圧縮したり、解凍して実際にファイルを展開しなくても中身を確認したりすることができる。"
   ]
  },
  {
   "cell_type": "code",
   "execution_count": 50,
   "metadata": {},
   "outputs": [
    {
     "name": "stdout",
     "output_type": "stream",
     "text": [
      "b'AAA\\r\\nBBB\\r\\nCCC\\r\\nDDD'\n"
     ]
    }
   ],
   "source": [
    "import tarfile\n",
    "\n",
    "with tarfile.open('./file/test.tar.gz', 'w:gz') as t:\n",
    "    t.add('./file')\n",
    "\n",
    "with tarfile.open('./file/test.tar.gz', 'r:gz') as t:\n",
    "    with t.extractfile('./file/Multi_Line.txt') as f:\n",
    "        print(f.read())"
   ]
  },
  {
   "cell_type": "code",
   "execution_count": 64,
   "metadata": {},
   "outputs": [
    {
     "name": "stdout",
     "output_type": "stream",
     "text": [
      "b'AAA\\r\\nBBB\\r\\nCCC\\r\\nDDD'\n"
     ]
    }
   ],
   "source": [
    "import zipfile\n",
    "import glob\n",
    "\n",
    "with zipfile.ZipFile('./file/test.zip', 'w') as z:\n",
    "    for f in glob.glob('./file/**', recursive=True):\n",
    "        z.write(f)\n",
    "\n",
    "with zipfile.ZipFile('./file/test.zip', 'r') as z:\n",
    "    with z.open('file/Multi_Line.txt') as f:\n",
    "        print(f.read())\n",
    "    z.extractall('./file/test_zip')\n",
    "time.sleep(5)\n",
    "\n",
    "shutil.rmtree('./file/test_zip')"
   ]
  },
  {
   "cell_type": "markdown",
   "metadata": {},
   "source": [
    "### 一時ファイル  Tempファイル\n",
    "\n",
    "一時ファイルを作成して、そのスコープが終わったら自動的に削除してくれる"
   ]
  },
  {
   "cell_type": "code",
   "execution_count": 70,
   "metadata": {},
   "outputs": [
    {
     "name": "stdout",
     "output_type": "stream",
     "text": [
      "hello\n",
      "C:\\Users\\kouda\\AppData\\Local\\Temp\\tmpgx5ss52l\n",
      "test\n",
      "\n",
      "C:\\Users\\kouda\\AppData\\Local\\Temp\\tmpr8oqfn9i\n",
      "C:\\Users\\kouda\\AppData\\Local\\Temp\\tmp6f98to5_\n"
     ]
    }
   ],
   "source": [
    "import tempfile\n",
    "\n",
    "with tempfile.TemporaryFile(mode='w+') as t:\n",
    "    t.write('hello')\n",
    "    t.seek(0)\n",
    "    print(t.read())\n",
    "\n",
    "with tempfile.NamedTemporaryFile(delete=False) as t:\n",
    "    print(t.name)\n",
    "    with open(t.name, 'w+') as f:\n",
    "        f.write('test\\n')\n",
    "        f.seek(0)\n",
    "        print(f.read())\n",
    "\n",
    "with tempfile.TemporaryDirectory() as d:\n",
    "    print(d)\n",
    "\n",
    "print(tempfile.mkdtemp())"
   ]
  },
  {
   "cell_type": "code",
   "execution_count": null,
   "metadata": {},
   "outputs": [],
   "source": []
  }
 ],
 "metadata": {
  "kernelspec": {
   "display_name": "Python 3",
   "language": "python",
   "name": "python3"
  },
  "language_info": {
   "codemirror_mode": {
    "name": "ipython",
    "version": 3
   },
   "file_extension": ".py",
   "mimetype": "text/x-python",
   "name": "python",
   "nbconvert_exporter": "python",
   "pygments_lexer": "ipython3",
   "version": "3.11.3"
  }
 },
 "nbformat": 4,
 "nbformat_minor": 2
}
