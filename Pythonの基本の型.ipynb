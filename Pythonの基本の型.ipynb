{
 "cells": [
  {
   "cell_type": "markdown",
   "metadata": {},
   "source": [
    "# Pythonの基本の型"
   ]
  },
  {
   "cell_type": "markdown",
   "metadata": {},
   "source": [
    "## リスト"
   ]
  },
  {
   "cell_type": "code",
   "execution_count": 6,
   "metadata": {},
   "outputs": [
    {
     "name": "stdout",
     "output_type": "stream",
     "text": [
      "8\n"
     ]
    },
    {
     "data": {
      "text/plain": [
       "[[1, 2, 3], [6, 7, 8, 9, 10]]"
      ]
     },
     "execution_count": 6,
     "metadata": {},
     "output_type": "execute_result"
    }
   ],
   "source": [
    "ls = [1, 2, 3]\n",
    "\n",
    "# リストのネスト\n",
    "sub_ls = [6, 7, 8, 9, 10]\n",
    "\n",
    "ls2 = [ls, sub_ls]\n",
    "print(ls2[1][2])\n",
    "ls2\n"
   ]
  },
  {
   "cell_type": "code",
   "execution_count": 19,
   "metadata": {},
   "outputs": [
    {
     "name": "stdout",
     "output_type": "stream",
     "text": [
      "100\n",
      "3\n",
      "[2, 200, 4, 5]\n",
      "[2, 3, 4, 5, 1, 2, 2]\n"
     ]
    },
    {
     "data": {
      "text/plain": [
       "[2, 3, 4, 5, 1, 2, 2, 10, 11, 12]"
      ]
     },
     "execution_count": 19,
     "metadata": {},
     "output_type": "execute_result"
    }
   ],
   "source": [
    "ls = [1, 2, 3, 4, 5]\n",
    "ls.append(100)\n",
    "ls.insert(3, 200)\n",
    "\n",
    "print(ls.pop())\n",
    "print(ls.pop(2))\n",
    "\n",
    "# delでは、スライスを使って複数の要素を削除することができる。\n",
    "del ls[0]\n",
    "del ls[1:3]\n",
    "\n",
    "print(ls)\n",
    "\n",
    "del ls\n",
    "\n",
    "ls = [2, 3, 4, 5, 1, 1, 2, 2]\n",
    "# 引数の値と同じ値の要素を削除する。複数ある時は最初の要素を削除する。\n",
    "ls.remove(1)\n",
    "\n",
    "print(ls)\n",
    "\n",
    "ls_extend = [10, 11, 12]\n",
    "ls.extend(ls_extend)\n",
    "ls\n"
   ]
  },
  {
   "cell_type": "code",
   "execution_count": 25,
   "metadata": {},
   "outputs": [
    {
     "name": "stdout",
     "output_type": "stream",
     "text": [
      "3が含まれています。\n",
      "[1, 1, 2, 2, 3, 3, 4, 4]\n",
      "[4, 4, 3, 3, 2, 2, 1, 1]\n",
      "[1, 1, 2, 2, 3, 3, 4, 4]\n",
      "['My', 'Name', 'Is', 'Mike']\n"
     ]
    },
    {
     "data": {
      "text/plain": [
       "'My.Name.Is.Mike'"
      ]
     },
     "execution_count": 25,
     "metadata": {},
     "output_type": "execute_result"
    }
   ],
   "source": [
    "ls = [1, 2, 3, 4, 1, 3, 2, 4]\n",
    "\n",
    "if 3 in ls:\n",
    "    print('3が含まれています。')\n",
    "\n",
    "ls.sort()\n",
    "print(ls)\n",
    "\n",
    "ls.sort(reverse=True)\n",
    "print(ls)\n",
    "\n",
    "ls.reverse()\n",
    "print(ls)\n",
    "\n",
    "listStr = \"my name is Mike\".title()\n",
    "listStr = listStr.split(' ')\n",
    "print(listStr)\n",
    "\n",
    "# joinメソッドは、文字列を結合するメソッド リストを引数にすると、リストの要素を結合して文字列にする。\n",
    "'.'.join(listStr)\n"
   ]
  },
  {
   "cell_type": "code",
   "execution_count": 1,
   "metadata": {},
   "outputs": [
    {
     "name": "stdout",
     "output_type": "stream",
     "text": [
      "[1000, 2, 3, 4, 5, 6, 7, 8, 9]\n",
      "[1000, 2, 3, 4, 5, 6, 7, 8, 9]\n",
      "[500, 2, 3, 4, 5, 6, 7, 8, 9]\n",
      "[1000, 2, 3, 4, 5, 6, 7, 8, 9]\n",
      "[1000, 2, 3, 4, 5, 6, 7, 8, 9]\n",
      "[1, 2, 3, 4, 5, 6, 7, 8, 9]\n"
     ]
    }
   ],
   "source": [
    "# リストのコピーについて、参照私と値渡しについてわかるような例を書く。\n",
    "# 例えば、リストのコピーについて、\n",
    "# 参照渡しの場合は、\n",
    "# 値渡しの場合は、\n",
    "\n",
    "ls = [1, 2, 3, 4, 5, 6, 7, 8, 9]\n",
    "ls_copy = ls\n",
    "ls_copy[0] = 1000\n",
    "print(ls_copy)\n",
    "print(ls)\n",
    "\n",
    "ls_copy2 = ls.copy()\n",
    "ls_copy2[0] = 500\n",
    "print(ls_copy2)\n",
    "print(ls)\n",
    "\n",
    "\n",
    "ls = [1, 2, 3, 4, 5, 6, 7, 8, 9]\n",
    "ls_copy = ls[:]\n",
    "ls_copy[0] = 1000\n",
    "print(ls_copy)\n",
    "print(ls)\n"
   ]
  },
  {
   "cell_type": "markdown",
   "metadata": {},
   "source": [
    "# タプル"
   ]
  },
  {
   "cell_type": "code",
   "execution_count": 3,
   "metadata": {},
   "outputs": [
    {
     "name": "stdout",
     "output_type": "stream",
     "text": [
      "1\n",
      "(3, 4, 5)\n",
      "[1, 2, 3]\n",
      "[100, 2, 3]\n",
      "<class 'tuple'>\n"
     ]
    },
    {
     "data": {
      "text/plain": [
       "(1, 2, 3, 4, 5, 6)"
      ]
     },
     "execution_count": 3,
     "metadata": {},
     "output_type": "execute_result"
    }
   ],
   "source": [
    "# タプルの基本の操作や、タプルのメリットについてサンプルのコードを書く。\n",
    "\n",
    "t = (1, 2, 3, 4, 5)\n",
    "print(t[0])\n",
    "print(t[2:5])\n",
    "\n",
    "t = ([1, 2, 3], [4, 5, 6])\n",
    "print(t[0])\n",
    "t[0][0] = 100\n",
    "print(t[0])\n",
    "\n",
    "t = 1, 2, 3, 4, 5   # タプルの場合は、()を省略することができる。\n",
    "print(type(t))\n",
    "\n",
    "t = 1,  # 要素が一つの場合は、カンマをつける必要がある。\n",
    "\n",
    "tpl = 1, 2, 3, + 4, 5, 6\n"
   ]
  },
  {
   "cell_type": "code",
   "execution_count": 9,
   "metadata": {},
   "outputs": [
    {
     "name": "stdout",
     "output_type": "stream",
     "text": [
      "100 200\n",
      "200 100\n",
      "<class 'int'>\n",
      "<class 'int'>\n",
      "<class 'tuple'>\n",
      "200 100\n",
      "<class 'int'>\n",
      "<class 'int'>\n",
      "<class 'tuple'>\n"
     ]
    }
   ],
   "source": [
    "# タプルのアンパッキングについて、サンプルのコードを書く。\n",
    "# アンパッキングとは、タプルやリストの要素を取り出すことを言う。\n",
    "\n",
    "\n",
    "a = 100\n",
    "b = 200\n",
    "print(a, b)\n",
    "\n",
    "# 一時変数を使わずに、aとbの値を入れ替える。\n",
    "# b,aでタプルが作成され、a,bにアンパッキングされて代入される。\n",
    "a, b = b, a\n",
    "c = a, b\n",
    "print(a, b)\n",
    "\n",
    "print(type(a))\n",
    "print(type(b))\n",
    "print(type(c))\n",
    "\n",
    "a, b = c\n",
    "print(a, b)\n",
    "\n",
    "print(type(a))\n",
    "print(type(b))\n"
   ]
  },
  {
   "cell_type": "markdown",
   "metadata": {},
   "source": [
    "# 辞書型(dict)"
   ]
  },
  {
   "cell_type": "markdown",
   "metadata": {},
   "source": [
    "辞書型の基本"
   ]
  },
  {
   "cell_type": "code",
   "execution_count": 13,
   "metadata": {},
   "outputs": [
    {
     "name": "stdout",
     "output_type": "stream",
     "text": [
      "10\n",
      "20\n",
      "100\n",
      "XXXX\n",
      "200\n",
      "{'x': 'XXXX', 'y': 20, 'z': 200}\n",
      "dict_keys(['x', 'y'])\n",
      "dict_values([10, 20])\n",
      "10\n",
      "None\n",
      "KeyError\n"
     ]
    }
   ],
   "source": [
    "# dictの基本の操作や、dictのメリットについてサンプルのコードを書く。\n",
    "\n",
    "d = {'x': 10, 'y': 20}\n",
    "print(d['x'])\n",
    "print(d['y'])\n",
    "\n",
    "d['x'] = 100\n",
    "print(d['x'])\n",
    "\n",
    "d['x'] = 'XXXX'\n",
    "print(d['x'])\n",
    "\n",
    "d['z'] = 200\n",
    "print(d['z'])\n",
    "\n",
    "print(d)\n",
    "\n",
    "d = {'x': 10, 'y': 20}\n",
    "print(d.keys())\n",
    "print(d.values())\n"
   ]
  },
  {
   "cell_type": "markdown",
   "metadata": {},
   "source": [
    "値を取り出すときの注意点"
   ]
  },
  {
   "cell_type": "code",
   "execution_count": null,
   "metadata": {},
   "outputs": [],
   "source": [
    "# dictの値を取り出す時に、getメソッドを使うと、値がない場合にNoneを返すようにすることができる。\n",
    "# [](getメソッドを使わない場合)だと、値がない場合にエラーになる。\n",
    "print(d.get('x'))\n",
    "print(d.get('z'))\n",
    "\n",
    "try:\n",
    "    print(d['z'])\n",
    "except KeyError:\n",
    "    print('KeyError')\n"
   ]
  },
  {
   "cell_type": "markdown",
   "metadata": {},
   "source": [
    "in はキーに対して有無を調べることができる"
   ]
  },
  {
   "cell_type": "code",
   "execution_count": 19,
   "metadata": {},
   "outputs": [
    {
     "name": "stdout",
     "output_type": "stream",
     "text": [
      "True\n",
      "False\n"
     ]
    }
   ],
   "source": [
    "d = {'x': 10, 'y': 20}\n",
    "\n",
    "print('x' in d)\n",
    "try:\n",
    "    print(10 in d)\n",
    "except TypeError:\n",
    "    print('TypeError')\n",
    "\n",
    "d_cp = d.copy()\n",
    "d['x'] = 100\n"
   ]
  },
  {
   "cell_type": "markdown",
   "metadata": {},
   "source": [
    "# 集合型(set)"
   ]
  },
  {
   "cell_type": "code",
   "execution_count": 7,
   "metadata": {},
   "outputs": [
    {
     "name": "stdout",
     "output_type": "stream",
     "text": [
      "{1, 2, 3, 4, 5}\n",
      "{1, 2, 3, 4, 5}\n",
      "<class 'dict'>\n",
      "<class 'set'>\n",
      "{1, 2, 3, 4, 5, 6}\n",
      "{1, 2, 3, 4, 5}\n",
      "set()\n",
      "{3, 4, 5}\n",
      "{3, 4, 5}\n",
      "{1, 2, 3, 4, 5, 6, 7}\n",
      "{1, 2, 3, 4, 5, 6, 7}\n",
      "{1, 2}\n",
      "{1, 2}\n",
      "{1, 2, 6, 7}\n",
      "{1, 2, 6, 7}\n"
     ]
    }
   ],
   "source": [
    "# setの基本の操作や、setのメリットについてサンプルのコードを書く。\n",
    "\n",
    "s = {1, 2, 3, 4, 5}\n",
    "print(s)\n",
    "\n",
    "s = {1, 1, 2, 3, 4, 5, 5, 5, 5, 5}\n",
    "print(s)\n",
    "\n",
    "s = {}\n",
    "print(type(s))\n",
    "\n",
    "s = set()\n",
    "print(type(s))\n",
    "\n",
    "s = {1, 2, 3, 4, 5}\n",
    "s.add(6)\n",
    "s.add(6)\n",
    "print(s)\n",
    "\n",
    "s.remove(6)\n",
    "print(s)\n",
    "\n",
    "s = {1, 2, 3, 4, 5, 6}\n",
    "s.clear()\n",
    "print(s)\n",
    "\n",
    "s1 = {1, 2, 3, 4, 5}\n",
    "s2 = {3, 4, 5, 6, 7}\n",
    "\n",
    "print(s1 & s2)\n",
    "print(s1.intersection(s2))\n",
    "\n",
    "print(s1 | s2)\n",
    "print(s1.union(s2))\n",
    "\n",
    "print(s1 - s2)\n",
    "print(s1.difference(s2))\n",
    "\n",
    "print(s1 ^ s2)\n",
    "print(s1.symmetric_difference(s2))"
   ]
  },
  {
   "cell_type": "markdown",
   "metadata": {},
   "source": [
    "リストから重複をなくし、”種類\"として扱いたい場合"
   ]
  },
  {
   "cell_type": "code",
   "execution_count": 6,
   "metadata": {},
   "outputs": [
    {
     "name": "stdout",
     "output_type": "stream",
     "text": [
      "{'banana', 'durian', 'cherry', 'apple'}\n"
     ]
    }
   ],
   "source": [
    "li = [\"apple\", \"banana\", \"cherry\", \"durian\",  \"cherry\"]\n",
    "kind = set(li)\n",
    "print(kind)"
   ]
  },
  {
   "cell_type": "code",
   "execution_count": null,
   "metadata": {},
   "outputs": [],
   "source": []
  }
 ],
 "metadata": {
  "kernelspec": {
   "display_name": "Python 3",
   "language": "python",
   "name": "python3"
  },
  "language_info": {
   "codemirror_mode": {
    "name": "ipython",
    "version": 3
   },
   "file_extension": ".py",
   "mimetype": "text/x-python",
   "name": "python",
   "nbconvert_exporter": "python",
   "pygments_lexer": "ipython3",
   "version": "3.11.3"
  },
  "orig_nbformat": 4
 },
 "nbformat": 4,
 "nbformat_minor": 2
}
