{
 "cells": [
  {
   "cell_type": "markdown",
   "metadata": {},
   "source": [
    "# 数字と文字列の基本"
   ]
  },
  {
   "cell_type": "code",
   "execution_count": 2,
   "metadata": {},
   "outputs": [],
   "source": [
    "import numpy as np\n"
   ]
  },
  {
   "attachments": {},
   "cell_type": "markdown",
   "metadata": {},
   "source": [
    "割り算の商だけを整数で表示"
   ]
  },
  {
   "cell_type": "code",
   "execution_count": 4,
   "metadata": {},
   "outputs": [
    {
     "name": "stdout",
     "output_type": "stream",
     "text": [
      "5\n",
      "2\n",
      "17\n"
     ]
    }
   ],
   "source": [
    "print(17 // 3)\n",
    "print(17 % 3)\n",
    "print((17 // 3) * 3 + (17 % 3))\n"
   ]
  },
  {
   "attachments": {},
   "cell_type": "markdown",
   "metadata": {},
   "source": [
    "#べき乗"
   ]
  },
  {
   "cell_type": "code",
   "execution_count": 5,
   "metadata": {},
   "outputs": [
    {
     "name": "stdout",
     "output_type": "stream",
     "text": [
      "125\n",
      "125\n"
     ]
    }
   ],
   "source": [
    "\n",
    "print(5 ** 3)\n",
    "print(5 * 5 * 5)\n"
   ]
  },
  {
   "attachments": {},
   "cell_type": "markdown",
   "metadata": {},
   "source": [
    "丸め込み"
   ]
  },
  {
   "cell_type": "code",
   "execution_count": 6,
   "metadata": {},
   "outputs": [
    {
     "name": "stdout",
     "output_type": "stream",
     "text": [
      "3.141592653589793\n",
      "3.142\n"
     ]
    }
   ],
   "source": [
    "pi = np.pi\n",
    "print(pi)\n",
    "print(round(pi, 3))\n"
   ]
  },
  {
   "cell_type": "markdown",
   "metadata": {},
   "source": [
    "printのオプション"
   ]
  },
  {
   "cell_type": "code",
   "execution_count": 7,
   "metadata": {},
   "outputs": [
    {
     "name": "stdout",
     "output_type": "stream",
     "text": [
      "one,two,three."
     ]
    }
   ],
   "source": [
    "print(\"one\", \"two\", \"three\", sep=\",\", end=\".\")\n"
   ]
  },
  {
   "cell_type": "markdown",
   "metadata": {},
   "source": [
    "平方根,logの表示"
   ]
  },
  {
   "cell_type": "code",
   "execution_count": 8,
   "metadata": {},
   "outputs": [
    {
     "name": "stdout",
     "output_type": "stream",
     "text": [
      "1.4142135623730951\n",
      "1.0\n"
     ]
    }
   ],
   "source": [
    "import math\n",
    "\n",
    "result = math.sqrt(2)\n",
    "print(result)\n",
    "\n",
    "print(math.log2(2))"
   ]
  },
  {
   "cell_type": "markdown",
   "metadata": {},
   "source": [
    "## 文字操作"
   ]
  },
  {
   "cell_type": "code",
   "execution_count": 9,
   "metadata": {},
   "outputs": [
    {
     "name": "stdout",
     "output_type": "stream",
     "text": [
      "C:\\Users\\name\\Desktop\\test.txt\n",
      "****************************************************************************************************\n",
      "\n",
      "最初と\n",
      "最後の行は\n",
      "改行される\n",
      "\n",
      "****************************************************************************************************\n",
      "一行目を\n",
      "改行しないで\n",
      "複数文字列を\n",
      "表示する\n",
      "****************************************************************************************************\n",
      "I don't say \"hello\"\n",
      "I don't say \"hello\"\n"
     ]
    }
   ],
   "source": [
    "# 文字列の前にrをつけると、エスケープ文字を無効にできる\n",
    "print(r'C:\\Users\\name\\Desktop\\test.txt')\n",
    "\n",
    "\n",
    "print('*' * 100)\n",
    "\n",
    "# このやり方だと、最初と最後の行が改行される\n",
    "print(\"\"\"\n",
    "最初と\n",
    "最後の行は\n",
    "改行される\n",
    "\"\"\")\n",
    "\n",
    "print('*' * 100)\n",
    "\n",
    "# 1行目と最後の改行を無効化して、左側に合わせたほうが見やすい\n",
    "str = \"\"\"\\\n",
    "一行目を\n",
    "改行しないで\n",
    "複数文字列を\n",
    "表示する\\\n",
    "\"\"\"\n",
    "print(str)\n",
    "print('*' * 100)\n",
    "\n",
    "# 文字列を連結できるが、長くなる時はバックスラッシュで改行する\n",
    "str = \"I don't say \" \\\n",
    "    '\"hello\"'\n",
    "print(str)\n",
    "\n",
    "# または、()で囲む\n",
    "str2 = (\"I don't say \"\n",
    "        '\"hello\"')\n",
    "print(str2)\n"
   ]
  },
  {
   "cell_type": "markdown",
   "metadata": {},
   "source": [
    "文字のリストとしての文字列"
   ]
  },
  {
   "cell_type": "code",
   "execution_count": 10,
   "metadata": {},
   "outputs": [
    {
     "name": "stdout",
     "output_type": "stream",
     "text": [
      "a\n",
      "b\n",
      "f\n",
      "ab\n",
      "ab\n",
      "cdef\n",
      "Abcdef\n"
     ]
    },
    {
     "data": {
      "text/plain": [
       "6"
      ]
     },
     "execution_count": 10,
     "metadata": {},
     "output_type": "execute_result"
    }
   ],
   "source": [
    "wordlist = \"abcdef\"\n",
    "print(wordlist[0])\n",
    "print(wordlist[1])\n",
    "print(wordlist[-1])\n",
    "print(wordlist[0:2])\n",
    "\n",
    "# スライスの最初が0の時、最後が-1の時は省略できる\n",
    "print(wordlist[:2])\n",
    "print(wordlist[2:])\n",
    "\n",
    "# wordlist[0] = \"A\" # 文字列は変更できない\n",
    "wordlist = \"A\" + wordlist[1:]\n",
    "print(wordlist)\n",
    "\n",
    "len(wordlist)"
   ]
  },
  {
   "cell_type": "markdown",
   "metadata": {},
   "source": [
    "文字列のメソッド"
   ]
  },
  {
   "cell_type": "code",
   "execution_count": 11,
   "metadata": {},
   "outputs": [
    {
     "name": "stdout",
     "output_type": "stream",
     "text": [
      "I LIKE PYTHON AND PYTHON LIKE ME\n",
      "i like python and python like me\n",
      "I Like Python And Python Like Me\n",
      "I like python and python like me\n",
      "2\n",
      "25\n",
      "2\n",
      "I love Python and Python love me\n"
     ]
    }
   ],
   "source": [
    "string = \"I like Python and Python like me\"\n",
    "\n",
    "print(string.upper())\n",
    "print(string.lower())\n",
    "\n",
    "# タイトルケース → 単語の先頭を大文字にする\n",
    "print(string.title())\n",
    "\n",
    "# 文字列の先頭を大文字にする。他は小文字にする\n",
    "print(string.capitalize())\n",
    "print(string.find(\"like\"))\n",
    "\n",
    "# 文字列の後ろから検索する\n",
    "print(string.rfind(\"like\"))\n",
    "print(string.count(\"like\"))\n",
    "\n",
    "print(string.replace(\"like\", \"love\"))\n"
   ]
  },
  {
   "cell_type": "markdown",
   "metadata": {},
   "source": [
    "変数を文字列に埋め込んで表示させる方法"
   ]
  },
  {
   "cell_type": "code",
   "execution_count": 12,
   "metadata": {},
   "outputs": [
    {
     "name": "stdout",
     "output_type": "stream",
     "text": [
      "val = 123\n",
      "val1 = 1, val2 = 2, val3 = 3\n",
      "val1 = 3, val2 = 2, val3 = 1\n",
      "val1 = val1, val2 = val2, val1 = val1\n",
      "val1 = A, val2 = B\n",
      "val1 = A, val2 = B\n"
     ]
    }
   ],
   "source": [
    "val = 123\n",
    "s = \"val = {}\".format(val)\n",
    "print(s)\n",
    "\n",
    "s = \"val1 = {0}, val2 = {1}, val3 = {2}\".format(1, 2, 3)\n",
    "print(s)\n",
    "\n",
    "s = \"val1 = {2}, val2 = {1}, val3 = {0}\".format(1, 2, 3)\n",
    "print(s)\n",
    "\n",
    "s = \"val1 = {0}, val2 = {1}, val1 = {0}\".format(\"val1\", \"val2\")\n",
    "print(s)\n",
    "\n",
    "s = \"val1 = {val1}, val2 = {val2}\".format(val1=\"A\", val2=\"B\")\n",
    "print(s)\n",
    "\n",
    "# f-string\n",
    "val1 = \"A\"\n",
    "val2 = \"B\"\n",
    "s = f\"val1 = {val1}, val2 = {val2}\"\n",
    "print(s)\n"
   ]
  },
  {
   "cell_type": "code",
   "execution_count": null,
   "metadata": {},
   "outputs": [],
   "source": []
  }
 ],
 "metadata": {
  "kernelspec": {
   "display_name": "Python 3",
   "language": "python",
   "name": "python3"
  },
  "language_info": {
   "codemirror_mode": {
    "name": "ipython",
    "version": 3
   },
   "file_extension": ".py",
   "mimetype": "text/x-python",
   "name": "python",
   "nbconvert_exporter": "python",
   "pygments_lexer": "ipython3",
   "version": "3.7.8"
  },
  "orig_nbformat": 4,
  "vscode": {
   "interpreter": {
    "hash": "04a52e948fd7128772bfc502f725c8b5938f27bfd0dd862f32b3a2942bb2cc58"
   }
  }
 },
 "nbformat": 4,
 "nbformat_minor": 2
}
