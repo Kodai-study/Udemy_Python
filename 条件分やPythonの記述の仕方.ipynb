{
 "cells": [
  {
   "cell_type": "markdown",
   "metadata": {},
   "source": [
    "# 条件分岐"
   ]
  },
  {
   "cell_type": "code",
   "execution_count": 10,
   "metadata": {},
   "outputs": [
    {
     "name": "stdout",
     "output_type": "stream",
     "text": [
      "xの値5はliに含まれています\n",
      "x2の値6はliに含まれていません\n",
      "flagはFalseです\n",
      "変数valには値が入っています\n",
      "変数の値が入っていないか、0です\n",
      "変数valには値が入っていません\n",
      "変数valには値が入っていません\n"
     ]
    }
   ],
   "source": [
    "li = [1, 2, 3, 4, 5]\n",
    "x = 5\n",
    "x2 = 6\n",
    "\n",
    "if x in li:\n",
    "    print(f'xの値{x}はliに含まれています')\n",
    "\n",
    "if x2 not in li:\n",
    "    print(f'x2の値{x2}はliに含まれていません')\n",
    "\n",
    "flag = False\n",
    "\n",
    "# boolを `==false`で判定するよりも、notを使う方が見やすい\n",
    "if not flag:\n",
    "    print('flagはFalseです')\n",
    "\n",
    "val = 1\n",
    "if val:\n",
    "    print('変数valには値が入っています')\n",
    "\n",
    "# 数値型の場合、0はFalseと判定される\n",
    "val = 0\n",
    "if not val:\n",
    "    print('変数の値が入っていないか、0です')\n",
    "\n",
    "val = 0.1\n",
    "if not val:\n",
    "    print('変数の値が入っていないか、0です')\n",
    "\n",
    "# 値が入っているかの判定を、文字列とリスト、タプルでも行う\n",
    "val = ''\n",
    "if val:\n",
    "    print('変数valには値が入っています')\n",
    "else:\n",
    "    print('変数valには値が入っていません')\n",
    "\n",
    "\n",
    "val = []\n",
    "if val:\n",
    "    print('変数valには値が入っています')\n",
    "else:\n",
    "    print('変数valには値が入っていません')\n"
   ]
  },
  {
   "cell_type": "markdown",
   "metadata": {},
   "source": [
    "is と == の違い"
   ]
  },
  {
   "cell_type": "code",
   "execution_count": 11,
   "metadata": {},
   "outputs": [
    {
     "name": "stdout",
     "output_type": "stream",
     "text": [
      "True\n",
      "True\n",
      "False\n"
     ]
    }
   ],
   "source": [
    "emply = None\n",
    "val = 1\n",
    "\n",
    "# 値がNoneであるかどうかは、isを使って判定する\n",
    "print(emply is None)\n",
    "print(val == True)\n",
    "print(val is True)\n",
    "\n",
    "# == と is の違いは、isはオブジェクトのidが同じかどうかを判定する\n",
    "# == は、オブジェクトの値が同じかどうかを判定する\n",
    "\n",
    "# "
   ]
  },
  {
   "cell_type": "markdown",
   "metadata": {},
   "source": [
    "# ループ文   \n",
    "   \n",
    "while - else 文"
   ]
  },
  {
   "cell_type": "code",
   "execution_count": 16,
   "metadata": {},
   "outputs": [
    {
     "name": "stdout",
     "output_type": "stream",
     "text": [
      "0 1 2 3 4 5 6 7 8 9 \n",
      "while文が最後まで終了\n",
      "0 1 2 3 4 5 6 7 8 9 "
     ]
    }
   ],
   "source": [
    "cnt = 0\n",
    "\n",
    "while cnt < 10:\n",
    "    print(cnt, end=' ')\n",
    "    cnt += 1\n",
    "else:\n",
    "    print('\\nwhile文が最後まで終了')\n",
    "\n",
    "cnt = 0\n",
    "while True:\n",
    "    print(cnt, end=' ')\n",
    "    cnt += 1\n",
    "    if cnt >= 10:\n",
    "        break\n",
    "else:\n",
    "    # breakで抜けた場合は、elseは実行されない\n",
    "    print('\\nwhile文が最後まで終了')\n"
   ]
  },
  {
   "cell_type": "markdown",
   "metadata": {},
   "source": [
    "for文"
   ]
  },
  {
   "cell_type": "code",
   "execution_count": 28,
   "metadata": {},
   "outputs": [
    {
     "name": "stdout",
     "output_type": "stream",
     "text": [
      "1 2 3 4 5 \n",
      "helloworld\n",
      "apple banana orange \n",
      "hello hello hello hello hello hello hello hello hello hello "
     ]
    }
   ],
   "source": [
    "li = [1, 2, 3, 4, 5]\n",
    "\n",
    "for val in li:\n",
    "    print(val, end=' ')\n",
    "\n",
    "string = \"\\nhello world\"\n",
    "for c in string:\n",
    "    if c == ' ':\n",
    "        continue\n",
    "    print(c, end='')\n",
    "else:\n",
    "    print()\n",
    "\n",
    "tup = (\"apple\", \"banana\", \"orange\", \"grape\")\n",
    "for s in tup:\n",
    "    print(s, end=' ')\n",
    "\n",
    "    # このやり方をよく使う\n",
    "    if s == \"orange\":\n",
    "        break\n",
    "else:\n",
    "    print(\"for文が最後まで終了\")\n",
    "\n",
    "# 繰り返し回数だけで、range関数の値を使わない場合は、明示するために変数名に_を使う\n",
    "\n",
    "print()\n",
    "for _ in range(10):\n",
    "    print('hello', end=' ')"
   ]
  },
  {
   "cell_type": "markdown",
   "metadata": {},
   "source": [
    "enumerate関数   \n",
    "zip関数"
   ]
  },
  {
   "cell_type": "code",
   "execution_count": 33,
   "metadata": {},
   "outputs": [
    {
     "name": "stdout",
     "output_type": "stream",
     "text": [
      "0 Mike\n",
      "1 Tom\n",
      "2 Ken\n",
      "3 John\n",
      "today is Mon, drink is coffee, food is bread\n",
      "today is Tue, drink is milk, food is rice\n",
      "today is Wed, drink is water, food is pasta\n",
      "today is Thu, drink is beer, food is pizza\n",
      "today is Fri, drink is tea, food is sushi\n",
      "today is Sat, drink is sake, food is curry\n",
      "today is Sun, drink is juice, food is ramen\n"
     ]
    }
   ],
   "source": [
    "li = [\"Mike\", \"Tom\", \"Ken\", \"John\"]\n",
    "\n",
    "# enumerate関数を使うと、インデックスと値を同時に取得できる\n",
    "for i, name in enumerate(li):\n",
    "    print(i, name)\n",
    "\n",
    "li_day = [\"Mon\", \"Tue\", \"Wed\", \"Thu\", \"Fri\", \"Sat\", \"Sun\"]\n",
    "li_7drinks = [\"coffee\", \"milk\", \"water\", \"beer\", \"tea\", \"sake\", \"juice\"]\n",
    "li_7foods = [\"bread\", \"rice\", \"pasta\", \"pizza\", \"sushi\", \"curry\", \"ramen\"]\n",
    "\n",
    "# zip関数を使うと、複数のリストの値を同時に取得できる\n",
    "for day, drink, food in zip(li_day, li_7drinks, li_7foods):\n",
    "    print(f\"today is {day}, drink is {drink}, food is {food}\")\n"
   ]
  },
  {
   "cell_type": "code",
   "execution_count": 36,
   "metadata": {},
   "outputs": [
    {
     "name": "stdout",
     "output_type": "stream",
     "text": [
      "apple : 100\n",
      "banana : 200\n",
      "orange : 300\n",
      "grape : 400\n"
     ]
    }
   ],
   "source": [
    "dic = {\"apple\": 100, \"banana\": 200, \"orange\": 300, \"grape\": 400}\n",
    "\n",
    "# itemsは、キーとアイテムのタプルを取得する\n",
    "for key, item in dic.items():\n",
    "    print(key, item, sep=' : ')\n"
   ]
  },
  {
   "cell_type": "code",
   "execution_count": null,
   "metadata": {},
   "outputs": [],
   "source": []
  }
 ],
 "metadata": {
  "kernelspec": {
   "display_name": "Python 3",
   "language": "python",
   "name": "python3"
  },
  "language_info": {
   "codemirror_mode": {
    "name": "ipython",
    "version": 3
   },
   "file_extension": ".py",
   "mimetype": "text/x-python",
   "name": "python",
   "nbconvert_exporter": "python",
   "pygments_lexer": "ipython3",
   "version": "3.7.8"
  },
  "orig_nbformat": 4
 },
 "nbformat": 4,
 "nbformat_minor": 2
}
