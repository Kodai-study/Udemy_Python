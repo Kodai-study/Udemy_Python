{
 "cells": [
  {
   "cell_type": "code",
   "execution_count": 7,
   "metadata": {},
   "outputs": [
    {
     "name": "stdout",
     "output_type": "stream",
     "text": [
      "int arg = 1, str arg = a\n",
      "1 + 2 = 3\n"
     ]
    }
   ],
   "source": [
    "num: int = 100\n",
    "\n",
    "\n",
    "def func(arg1: int, arg2: str):\n",
    "    return print(f\"int arg = {arg1}, str arg = {arg2}\")\n",
    "\n",
    "\n",
    "def add(num1: int, num2: int) -> int:\n",
    "    return num1 + num2\n",
    "\n",
    "\n",
    "func(1, \"a\")\n",
    "print(\"{0} + {1} = {2}\".format(1, 2, add(1, 2)))\n"
   ]
  },
  {
   "cell_type": "code",
   "execution_count": 8,
   "metadata": {},
   "outputs": [
    {
     "name": "stdout",
     "output_type": "stream",
     "text": [
      "int arg = 1, str arg = a\n",
      "int arg = 2, str arg = a\n",
      "int arg = 1, str arg = b\n",
      "int arg = 2, str arg = b\n"
     ]
    }
   ],
   "source": [
    "def func2(arg1: int = 1, arg2: str = \"a\"):\n",
    "    return print(f\"int arg = {arg1}, str arg = {arg2}\")\n",
    "\n",
    "func2()\n",
    "func2(2)\n",
    "func2(arg2=\"b\")\n",
    "func2(2, \"b\")\n"
   ]
  },
  {
   "cell_type": "code",
   "execution_count": 11,
   "metadata": {},
   "outputs": [
    {
     "name": "stdout",
     "output_type": "stream",
     "text": [
      "2128106691528 [1]\n",
      "2128106691528 [1, 2]\n",
      "2128119626504 [1]\n",
      "2128106691720 [2]\n"
     ]
    }
   ],
   "source": [
    "# デフォルト引数の値(オブジェクト)は最初に呼び出された1度だけ生成され、その後使いまわされるため、\n",
    "# デフォルト引数にオブジェクトを指定するべきではない\n",
    "def ng_func(arg_int: int, arg_list: list = []) -> list:\n",
    "    arg_list.append(arg_int)\n",
    "    return arg_list\n",
    "\n",
    "\n",
    "first = ng_func(1)\n",
    "print(id(first), first)\n",
    "\n",
    "second = ng_func(2)\n",
    "print(id(second), second)\n",
    "\n",
    "# デフォルト引数にオブジェクトを指定する場合は、Noneを指定して、関数内でオブジェクトを生成する\n",
    "def ok_func(arg_int: int, arg_list: list = None) -> list:\n",
    "    if arg_list is None:\n",
    "        arg_list = []\n",
    "    arg_list.append(arg_int)\n",
    "    return arg_list\n",
    "\n",
    "\n",
    "first = ok_func(1)\n",
    "print(id(first), first)\n",
    "\n",
    "second = ok_func(2)\n",
    "print(id(second), second)\n"
   ]
  },
  {
   "cell_type": "code",
   "execution_count": 21,
   "metadata": {},
   "outputs": [
    {
     "name": "stdout",
     "output_type": "stream",
     "text": [
      "first = 1\n",
      "***** something *****\n",
      "2 3 4 5 first = 1\n",
      "***** something *****\n",
      "2 3 4 5 "
     ]
    }
   ],
   "source": [
    "def args_something(first, *something):\n",
    "    print(f\"first = {first}\")\n",
    "    print(\"***** something *****\")\n",
    "    for s in something:\n",
    "        print(s, end=\" \")\n",
    "\n",
    "\n",
    "args_something(1, 2, 3, 4, 5)\n",
    "tup = (2, 3, 4, 5)\n",
    "\n",
    "# *tup はタプルを展開して渡す\n",
    "args_something(1, *tup)\n"
   ]
  },
  {
   "cell_type": "markdown",
   "metadata": {},
   "source": [
    "dictionalyを引数にした関数"
   ]
  },
  {
   "cell_type": "code",
   "execution_count": 26,
   "metadata": {},
   "outputs": [
    {
     "name": "stdout",
     "output_type": "stream",
     "text": [
      "a = 1\n",
      "b = 2\n",
      "c = 3\n",
      "\n",
      "\n",
      "a = 1\n",
      "b = 2\n",
      "c = 3\n",
      "\n",
      "arg1 = 1\n",
      "***** args *****\n",
      "2 3 4 5 \n",
      "***** kwargs *****\n",
      "a = 1\n",
      "b = 2\n",
      "c = 3\n"
     ]
    }
   ],
   "source": [
    "def dict_args_something(**something):\n",
    "    for k, v in something.items():\n",
    "        print(f\"{k} = {v}\")\n",
    "\n",
    "\n",
    "dict_args_something(a=1, b=2, c=3)\n",
    "print(\"\\n\")\n",
    "dic = {\"a\": 1, \"b\": 2, \"c\": 3}\n",
    "\n",
    "# **dic は辞書を展開して渡す\n",
    "dict_args_something(**dic)\n",
    "\n",
    "print()\n",
    "\n",
    "\n",
    "def some_kind_args(arg1,  *args, **kwargs):\n",
    "    print(f\"arg1 = {arg1}\")\n",
    "    print(\"***** args *****\")\n",
    "    for arg in args:\n",
    "        print(arg, end=\" \")\n",
    "    print(\"\\n***** kwargs *****\")\n",
    "    for k, v in kwargs.items():\n",
    "        print(f\"{k} = {v}\")\n",
    "\n",
    "\n",
    "some_kind_args(1, 2, 3, 4, 5, a=1, b=2, c=3)\n"
   ]
  },
  {
   "cell_type": "markdown",
   "metadata": {},
   "source": [
    "関数内関数"
   ]
  },
  {
   "cell_type": "code",
   "execution_count": 28,
   "metadata": {},
   "outputs": [
    {
     "data": {
      "text/plain": [
       "5"
      ]
     },
     "execution_count": 28,
     "metadata": {},
     "output_type": "execute_result"
    }
   ],
   "source": [
    "def outer(a, b):\n",
    "    def inner(c, d):\n",
    "        return c + d\n",
    "    temp = inner(a, b)\n",
    "    return inner(temp, b)\n",
    "\n",
    "\n",
    "outer(1, 2)\n"
   ]
  },
  {
   "cell_type": "markdown",
   "metadata": {},
   "source": [
    "## クロージャー"
   ]
  },
  {
   "cell_type": "code",
   "execution_count": 1,
   "metadata": {},
   "outputs": [
    {
     "name": "stdout",
     "output_type": "stream",
     "text": [
      "314.0\n",
      "300\n"
     ]
    }
   ],
   "source": [
    "# クロージャとは、関数の中で関数を定義し、その中で定義された関数を返す関数\n",
    "\n",
    "def outer(pi_rate):\n",
    "    def calc_circle_area(radius):\n",
    "        return pi_rate * radius ** 2\n",
    "    return calc_circle_area\n",
    "\n",
    "\n",
    "# 引数を変えることで、それぞれ内容の違う関数を作り出すことができる\n",
    "calcrater = outer(3.14)\n",
    "calcrater_about = outer(3)\n",
    "\n",
    "print(calcrater(10))\n",
    "print(calcrater_about(10))\n"
   ]
  },
  {
   "cell_type": "markdown",
   "metadata": {},
   "source": [
    "## デコレーター"
   ]
  },
  {
   "cell_type": "code",
   "execution_count": 3,
   "metadata": {},
   "outputs": [
    {
     "name": "stdout",
     "output_type": "stream",
     "text": [
      "引数は1と2です\n",
      "3\n",
      "引数は1と2です\n",
      "-1\n"
     ]
    }
   ],
   "source": [
    "# デコレーターとは、関数を引数に取り、関数を返す関数\n",
    "def calc_2num(func):\n",
    "    def inner(a, b):\n",
    "        print(f\"引数は{a}と{b}です\")\n",
    "        return func(a, b)\n",
    "    return inner\n",
    "\n",
    "\n",
    "def add_2num(a, b):\n",
    "    return a + b\n",
    "\n",
    "\n",
    "def sub_2num(a, b):\n",
    "    return a - b\n",
    "\n",
    "\n",
    "calc1 = calc_2num(add_2num)\n",
    "calc2 = calc_2num(sub_2num)\n",
    "\n",
    "print(calc1(1, 2))\n",
    "print(calc2(1, 2))\n"
   ]
  },
  {
   "cell_type": "code",
   "execution_count": null,
   "metadata": {},
   "outputs": [],
   "source": []
  },
  {
   "cell_type": "markdown",
   "metadata": {},
   "source": [
    "もっとわかりやすい書き方"
   ]
  },
  {
   "cell_type": "code",
   "execution_count": 25,
   "metadata": {},
   "outputs": [
    {
     "name": "stdout",
     "output_type": "stream",
     "text": [
      "外側のcalc_2num関数が呼ばれました\n",
      "外側のcalc_2num関数が終了しました\n",
      "外側のcalc_2num関数が呼ばれました\n",
      "外側のcalc_2num関数が終了しました\n",
      "引数は1と2です\n",
      "func name: add_2num\n",
      "args: (1, 2)\n",
      "kwargs: {}\n",
      "足し算を実行します\n",
      "result: 3\n",
      "外側のcalc_2num関数が呼ばれました\n",
      "外側のcalc_2num関数が終了しました\n",
      "引数は1と2です\n",
      "func name: mul_2num\n",
      "args: (1, 2)\n",
      "kwargs: {}\n",
      "掛け算を実行します\n",
      "result: 2\n",
      "resulf_mul:  2\n",
      "********************\n",
      "引数は6と2です\n",
      "func name: sub_2num\n",
      "args: (6, 2)\n",
      "kwargs: {}\n",
      "引き算を実行します\n",
      "result: 4\n",
      "3\n",
      "4\n"
     ]
    }
   ],
   "source": [
    "# デコレーターとは、関数を引数に取り、関数を返す関数\n",
    "def calc_2num(func):\n",
    "    print(\"外側のcalc_2num関数が呼ばれました\")\n",
    "\n",
    "    def inner(a, b):\n",
    "        print(f\"引数は{a}と{b}です\")\n",
    "        return func(a, b)\n",
    "    print(\"外側のcalc_2num関数が終了しました\")\n",
    "    return inner\n",
    "\n",
    "# @calc_2num は、calc_2num(add_2num)と同じ\n",
    "# add_2numを実行すると、先に外側のcalc_2num関数にadd_2numが渡された形で実行され、帰ってきたinner関数が実行される\n",
    "\n",
    "\n",
    "def print_func_info(func):\n",
    "    def wrapper(*args, **kwargs):\n",
    "        print(f\"func name: {func.__name__}\")\n",
    "        print(f\"args: {args}\")\n",
    "        print(f\"kwargs: {kwargs}\")\n",
    "        result = func(*args, **kwargs)\n",
    "        print(f\"result: {result}\")\n",
    "        return result\n",
    "    return wrapper\n",
    "\n",
    "\n",
    "@calc_2num\n",
    "@print_func_info\n",
    "def add_2num(a, b):\n",
    "    print(\"足し算を実行します\")\n",
    "    return a + b\n",
    "\n",
    "\n",
    "@calc_2num\n",
    "@print_func_info\n",
    "def sub_2num(a, b):\n",
    "    print(\"引き算を実行します\")\n",
    "    return a - b\n",
    "\n",
    "# 掛け算\n",
    "\n",
    "\n",
    "def mul_2num(a, b):\n",
    "    print(\"掛け算を実行します\")\n",
    "    return a * b\n",
    "\n",
    "\n",
    "result1 = add_2num(1, 2)\n",
    "\n",
    "# デコレータによるラッピングは、このようにやっているのと同じ\n",
    "mul_func = calc_2num(print_func_info(mul_2num))\n",
    "result_mul = mul_func(1, 2)\n",
    "print(\"resulf_mul: \", result_mul)\n",
    "print('*' * 20)\n",
    "\n",
    "result2 = sub_2num(6, 2)\n",
    "print(result1)\n",
    "print(result2)\n"
   ]
  },
  {
   "cell_type": "markdown",
   "metadata": {},
   "source": [
    "## ラムダ"
   ]
  },
  {
   "cell_type": "code",
   "execution_count": 29,
   "metadata": {},
   "outputs": [
    {
     "name": "stdout",
     "output_type": "stream",
     "text": [
      "Sun!\n",
      "Mon!\n",
      "Tue!\n",
      "Wed!\n",
      "Thu!\n",
      "Fri!\n",
      "Sat!\n",
      "\n",
      " ******************** \n",
      "\n",
      "sun?\n",
      "mon?\n",
      "tue?\n",
      "wed?\n",
      "thu?\n",
      "fri?\n",
      "sat?\n",
      "sun?\n",
      "mon?\n",
      "tue?\n",
      "wed?\n",
      "thu?\n",
      "fri?\n",
      "sat?\n"
     ]
    }
   ],
   "source": [
    "# 曜日のリスト\n",
    "week = [\"Sun\", \"mon\", \"Tue\", \"wed\", \"Thu\", \"fri\", \"Sat\"]\n",
    "\n",
    "\n",
    "def change_words(words, func):\n",
    "    for word in words:\n",
    "        print(func(word))\n",
    "\n",
    "\n",
    "def sample_func(word):\n",
    "    return word.capitalize() + \"!\"\n",
    "\n",
    "\n",
    "change_words(week, sample_func)\n",
    "print(\"\\n\", \"*\" * 20, \"\\n\")\n",
    "change_words(week, lambda word: word.lower() + \"?\")\n",
    "change_words(week, lambda w: w.lower() + \"?\")"
   ]
  },
  {
   "cell_type": "markdown",
   "metadata": {},
   "source": [
    "## ジェネレーター"
   ]
  },
  {
   "cell_type": "code",
   "execution_count": 33,
   "metadata": {},
   "outputs": [
    {
     "name": "stdout",
     "output_type": "stream",
     "text": [
      "apple\n",
      "banana\n",
      "orange\n",
      "apple\n",
      "banana\n",
      "orange\n"
     ]
    }
   ],
   "source": [
    "import time\n",
    "\n",
    "li = [\"apple\", \"banana\", \"orange\"]\n",
    "\n",
    "# for i in li:\n",
    "#     print(i)\n",
    "\n",
    "\n",
    "def generator_func():\n",
    "    yield \"apple\"\n",
    "    yield \"banana\"\n",
    "    yield \"orange\"\n",
    "\n",
    "\n",
    "def generator_func2():\n",
    "    for i in li:\n",
    "        time.sleep(0.5)\n",
    "        yield i\n",
    "    \n",
    "\n",
    "gen = generator_func()\n",
    "print(next(gen))\n",
    "print(next(gen))\n",
    "print(next(gen))\n",
    "\n",
    "gen2 = generator_func2()\n",
    "print(next(gen2))\n",
    "print(next(gen2))\n",
    "print(next(gen2))"
   ]
  },
  {
   "cell_type": "markdown",
   "metadata": {},
   "source": [
    "## リスト内包表記"
   ]
  },
  {
   "cell_type": "code",
   "execution_count": 40,
   "metadata": {},
   "outputs": [
    {
     "name": "stdout",
     "output_type": "stream",
     "text": [
      "[2, 4, 6, 8, 10]\n",
      "[1, 2, 3, 4, 5, 6, 7, 8, 9, 10, 2, 4, 6, 8, 10, 12, 14, 16, 18, 20, 3, 6, 9, 12, 15, 18, 21, 24, 27, 30, 4, 8, 12, 16, 20, 24, 28, 32, 36, 40, 5, 10, 15, 20, 25, 30, 35, 40, 45, 50, 6, 12, 18, 24, 30, 36, 42, 48, 54, 60, 7, 14, 21, 28, 35, 42, 49, 56, 63, 70, 8, 16, 24, 32, 40, 48, 56, 64, 72, 80, 9, 18, 27, 36, 45, 54, 63, 72, 81, 90]\n",
      "[20, 40, 60, 80, 100]\n"
     ]
    }
   ],
   "source": [
    "\n",
    "li = [1, 2, 3, 4, 5, 6, 7, 8, 9, 10]\n",
    "\n",
    "r = [i for i in li if i % 2 == 0]\n",
    "print(r)\n",
    "\n",
    "r = [i * j for i in range(1, 10) for j in li]\n",
    "print(r)\n",
    "\n",
    "r = [i * 10 for i in li if i % 2 == 0]\n",
    "print(r)"
   ]
  },
  {
   "cell_type": "markdown",
   "metadata": {},
   "source": [
    "## 辞書の内包表記"
   ]
  },
  {
   "cell_type": "code",
   "execution_count": 44,
   "metadata": {},
   "outputs": [
    {
     "name": "stdout",
     "output_type": "stream",
     "text": [
      "{'appple': 1, 'banana': 2, 'orange': 3}\n",
      "{0, 2, 4, 6, 8}\n",
      "1\n",
      "3\n"
     ]
    }
   ],
   "source": [
    "keys = ['appple', 'banana', 'orange']\n",
    "values = [1, 2, 3]\n",
    "\n",
    "d = {x : y for x, y in zip(keys, values)}\n",
    "print(d)\n",
    "\n",
    "s = {i for i in range(10) if i % 2 == 0}\n",
    "print(s)\n",
    "\n",
    "g = (i for i in range(10) if i % 2 == 1)\n",
    "\n",
    "print(next(g))\n",
    "print(next(g))\n"
   ]
  },
  {
   "cell_type": "code",
   "execution_count": null,
   "metadata": {},
   "outputs": [],
   "source": []
  }
 ],
 "metadata": {
  "kernelspec": {
   "display_name": "Python 3",
   "language": "python",
   "name": "python3"
  },
  "language_info": {
   "codemirror_mode": {
    "name": "ipython",
    "version": 3
   },
   "file_extension": ".py",
   "mimetype": "text/x-python",
   "name": "python",
   "nbconvert_exporter": "python",
   "pygments_lexer": "ipython3",
   "version": "3.7.8"
  },
  "orig_nbformat": 4
 },
 "nbformat": 4,
 "nbformat_minor": 2
}
