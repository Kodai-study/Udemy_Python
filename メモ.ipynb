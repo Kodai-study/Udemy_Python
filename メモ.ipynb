{
 "cells": [
  {
   "cell_type": "markdown",
   "metadata": {},
   "source": [
    "規則で、1行が80文字以上になる場合は、改行するようにするべきだと決まっている。   \n",
    "改行する場合は、バックスラッシュ \\ を入れて改行を無効化するか、足し算や文字列の場合は()で囲むことで1つの式として扱うことができる。"
   ]
  },
  {
   "cell_type": "markdown",
   "metadata": {},
   "source": [
    "インポートを書くときのルール\n",
    "\n",
    "- 標準ライブラリは、1行で1つのインポート文を書く\n",
    "- インポートの順番は、標準ライブラリ、サードパーティ、自分たちのローカルなものの順番で書く"
   ]
  },
  {
   "cell_type": "code",
   "execution_count": null,
   "metadata": {},
   "outputs": [],
   "source": [
    "# import sys,os,collections\n",
    "import sys\n",
    "import os\n",
    "import collections\n",
    "\n",
    "import numpy as np\n",
    "\n",
    "from python_files.package import module1\n"
   ]
  },
  {
   "cell_type": "markdown",
   "metadata": {},
   "source": []
  },
  {
   "cell_type": "markdown",
   "metadata": {},
   "source": []
  },
  {
   "cell_type": "markdown",
   "metadata": {},
   "source": []
  },
  {
   "cell_type": "markdown",
   "metadata": {},
   "source": []
  },
  {
   "cell_type": "code",
   "execution_count": null,
   "metadata": {},
   "outputs": [],
   "source": []
  }
 ],
 "metadata": {
  "kernelspec": {
   "display_name": "Python 3",
   "language": "python",
   "name": "python3"
  },
  "language_info": {
   "name": "python",
   "version": "3.7.8"
  },
  "orig_nbformat": 4
 },
 "nbformat": 4,
 "nbformat_minor": 2
}
