{
 "cells": [
  {
   "cell_type": "markdown",
   "metadata": {},
   "source": [
    "規則で、1行が80文字以上になる場合は、改行するようにするべきだと決まっている。   \n",
    "改行する場合は、バックスラッシュ \\ を入れて改行を無効化するか、足し算や文字列の場合は()で囲むことで1つの式として扱うことができる。"
   ]
  },
  {
   "cell_type": "markdown",
   "metadata": {},
   "source": [
    "インポートを書くときのルール\n",
    "\n",
    "- 標準ライブラリは、1行で1つのインポート文を書く\n",
    "- インポートの順番は、標準ライブラリ、サードパーティ、自分たちのローカルなものの順番で書く"
   ]
  },
  {
   "cell_type": "code",
   "execution_count": null,
   "metadata": {},
   "outputs": [],
   "source": [
    "# import sys,os,collections\n",
    "import sys\n",
    "import os\n",
    "import collections\n",
    "\n",
    "import numpy as np\n",
    "\n",
    "from python_files.package import module1\n"
   ]
  },
  {
   "cell_type": "markdown",
   "metadata": {},
   "source": [
    "## パッケージ化して配布したいときのルール\n",
    "\n",
    "基本的に、プログラムの中身はいじりにくくなり、外部の設定を触ってもらうことになる。\n",
    "その時には、設定ファイルの名前とその中身を、そのファイルが存在しない時から決めておき、そこに対して設定内容を書き込むようにReadme に書いておくのが良い"
   ]
  },
  {
   "cell_type": "code",
   "execution_count": null,
   "metadata": {},
   "outputs": [],
   "source": [
    "# ~~ hoge.py\n",
    "RANKING_CSV_FILE_PATH = 'ranking.csv'\n",
    "\n",
    "csv_file_path = None\n",
    "\n",
    "try:\n",
    "    # 何もしない状態だと、settings.pyは存在しない。デフォルト値が設定される。\n",
    "    # 自分で設定したくなった場合は、settings.pyを作成して、決められた変数を設定する。\n",
    "    import settings\n",
    "    if settings.CSV_FILE_PATH:\n",
    "        csv_file_path = settings.CSV_FILE_PATH\n",
    "except ImportError:\n",
    "    pass\n",
    "\n",
    "if not csv_file_path:\n",
    "    csv_file_path = RANKING_CSV_FILE_PATH"
   ]
  },
  {
   "cell_type": "markdown",
   "metadata": {},
   "source": [
    "## 複数個なくてもベースクラスを作る\n",
    "\n",
    "あらかじめ複数個作ることが確定していなくても、最初からベースクラスを作っておくと、後から複数個作ることになっても、ベースクラスを継承して作ることができる。"
   ]
  },
  {
   "cell_type": "markdown",
   "metadata": {},
   "source": [
    "## デコレータを使って、関数の呼び出し順番をチェックする\n",
    "\n",
    "関数を実行する際、複数の関数でチェック項目がある場合は、それらをチェックしてから実行するように、デコレータを使う。"
   ]
  },
  {
   "cell_type": "code",
   "execution_count": null,
   "metadata": {},
   "outputs": [],
   "source": [
    "def hello(self):\n",
    "    self.user_name = input('What is your name?')\n",
    "\n",
    "\n",
    "def _hello_decorator(func):\n",
    "    \"\"\"Decorator to say a greeting if you are not greeting the user.\"\"\"\n",
    "\n",
    "    # hello() が呼び出されておらず、初期化されていない場合は、hello()を呼び出す。\n",
    "    def wrapper(self):\n",
    "        if not self.user_name:\n",
    "            self.hello()\n",
    "        return func(self)\n",
    "    return wrapper\n",
    "\n",
    "\n",
    "@_hello_decorator\n",
    "def recommend_restaurant(self):\n",
    "    pass\n",
    "\n",
    "\n",
    "@_hello_decorator\n",
    "def ask_user_favorite(self):\n",
    "    pass"
   ]
  },
  {
   "cell_type": "markdown",
   "metadata": {},
   "source": [
    "## 文字列の シングルコートとダブルコートの使い分けについて   \n",
    "\n",
    "  　\n",
    "どちらを使っても基本的には良いが、条件によって使い分けると、別の意味を持たせることができて、コードの可読性が上がる。\n",
    " - 普通はシングルコート\n",
    " - ダブルコートを使うときは、シングルコートが含まれている場合\n",
    " - フォーマットを使って文字列の中に変数を埋め込む場合は、ダブルコートを使う"
   ]
  },
  {
   "cell_type": "code",
   "execution_count": null,
   "metadata": {},
   "outputs": [],
   "source": []
  }
 ],
 "metadata": {
  "kernelspec": {
   "display_name": "Python 3",
   "language": "python",
   "name": "python3"
  },
  "language_info": {
   "name": "python",
   "version": "3.7.8"
  },
  "orig_nbformat": 4
 },
 "nbformat": 4,
 "nbformat_minor": 2
}
