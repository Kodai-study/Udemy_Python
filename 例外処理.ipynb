{
 "cells": [
  {
   "cell_type": "code",
   "execution_count": 2,
   "metadata": {},
   "outputs": [
    {
     "name": "stdout",
     "output_type": "stream",
     "text": [
      "global_val\n",
      "change_global\n",
      "{'str': 'change_global'}\n",
      "{'__name__': '__main__', '__doc__': 'Automatically created module for IPython interactive environment', '__package__': None, '__loader__': None, '__spec__': None, '__builtin__': <module 'builtins' (built-in)>, '__builtins__': <module 'builtins' (built-in)>, '_ih': ['', 'str = \"global_val\"\\n\\ndef func_print_gloval():\\n    print(str)\\n\\ndef func_change_global():\\n    str = \"change_global\"\\n    print(str)\\n\\nfunc_print_gloval()\\nfunc_change_global()', 'str = \"global_val\"\\n\\ndef func_print_gloval():\\n    print(str)\\n\\ndef func_change_global():\\n    str = \"change_global\"\\n    print(str)\\n    print(locals())\\n\\nfunc_print_gloval()\\nfunc_change_global()\\n\\nprint(globals())'], '_oh': {}, '_dh': ['c:\\\\Users\\\\a22ei01\\\\OneDrive\\\\勉強\\\\Udemy_Python'], 'In': ['', 'str = \"global_val\"\\n\\ndef func_print_gloval():\\n    print(str)\\n\\ndef func_change_global():\\n    str = \"change_global\"\\n    print(str)\\n\\nfunc_print_gloval()\\nfunc_change_global()', 'str = \"global_val\"\\n\\ndef func_print_gloval():\\n    print(str)\\n\\ndef func_change_global():\\n    str = \"change_global\"\\n    print(str)\\n    print(locals())\\n\\nfunc_print_gloval()\\nfunc_change_global()\\n\\nprint(globals())'], 'Out': {}, 'get_ipython': <bound method InteractiveShell.get_ipython of <ipykernel.zmqshell.ZMQInteractiveShell object at 0x00000285CFF7CD48>>, 'exit': <IPython.core.autocall.ZMQExitAutocall object at 0x00000285D00504C8>, 'quit': <IPython.core.autocall.ZMQExitAutocall object at 0x00000285D00504C8>, '_': '', '__': '', '___': '', '__vsc_ipynb_file__': 'c:\\\\Users\\\\a22ei01\\\\OneDrive\\\\勉強\\\\Udemy_Python\\\\un.ipynb', '_i': 'str = \"global_val\"\\n\\ndef func_print_gloval():\\n    print(str)\\n\\ndef func_change_global():\\n    str = \"change_global\"\\n    print(str)\\n\\nfunc_print_gloval()\\nfunc_change_global()', '_ii': '', '_iii': '', '_i1': 'str = \"global_val\"\\n\\ndef func_print_gloval():\\n    print(str)\\n\\ndef func_change_global():\\n    str = \"change_global\"\\n    print(str)\\n\\nfunc_print_gloval()\\nfunc_change_global()', 'str': 'global_val', 'func_print_gloval': <function func_print_gloval at 0x00000285D00B8678>, 'func_change_global': <function func_change_global at 0x00000285D00B84C8>, '_i2': 'str = \"global_val\"\\n\\ndef func_print_gloval():\\n    print(str)\\n\\ndef func_change_global():\\n    str = \"change_global\"\\n    print(str)\\n    print(locals())\\n\\nfunc_print_gloval()\\nfunc_change_global()\\n\\nprint(globals())'}\n"
     ]
    }
   ],
   "source": [
    "str = \"global_val\"\n",
    "\n",
    "def func_print_gloval():\n",
    "    print(str)\n",
    "\n",
    "def func_change_global():\n",
    "    str = \"change_global\"\n",
    "    print(str)\n",
    "    print(locals())\n",
    "\n",
    "func_print_gloval()\n",
    "func_change_global()\n",
    "\n",
    "print(globals())"
   ]
  },
  {
   "cell_type": "code",
   "execution_count": 11,
   "metadata": {},
   "outputs": [
    {
     "name": "stdout",
     "output_type": "stream",
     "text": [
      "IndexError\n",
      "NameError name 'li' is not defined\n",
      "エラーがなければ実行される\n",
      "エラーがあってもなくても実行される\n"
     ]
    },
    {
     "ename": "TypeError",
     "evalue": "can only concatenate list (not \"tuple\") to list",
     "output_type": "error",
     "traceback": [
      "\u001b[1;31m---------------------------------------------------------------------------\u001b[0m",
      "\u001b[1;31mTypeError\u001b[0m                                 Traceback (most recent call last)",
      "\u001b[1;32mC:\\temp\\ipykernel_19228\\4179303749.py\u001b[0m in \u001b[0;36m<module>\u001b[1;34m\u001b[0m\n\u001b[0;32m     27\u001b[0m \u001b[1;33m\u001b[0m\u001b[0m\n\u001b[0;32m     28\u001b[0m \u001b[1;32mtry\u001b[0m\u001b[1;33m:\u001b[0m\u001b[1;33m\u001b[0m\u001b[1;33m\u001b[0m\u001b[0m\n\u001b[1;32m---> 29\u001b[1;33m     \u001b[0mli\u001b[0m \u001b[1;33m+\u001b[0m \u001b[1;33m(\u001b[0m\u001b[1;33m)\u001b[0m\u001b[1;33m\u001b[0m\u001b[1;33m\u001b[0m\u001b[0m\n\u001b[0m\u001b[0;32m     30\u001b[0m \u001b[1;32mexcept\u001b[0m \u001b[0mIndexError\u001b[0m\u001b[1;33m:\u001b[0m\u001b[1;33m\u001b[0m\u001b[1;33m\u001b[0m\u001b[0m\n\u001b[0;32m     31\u001b[0m     \u001b[0mprint\u001b[0m\u001b[1;33m(\u001b[0m\u001b[1;34m\"IndexError\"\u001b[0m\u001b[1;33m)\u001b[0m\u001b[1;33m\u001b[0m\u001b[1;33m\u001b[0m\u001b[0m\n",
      "\u001b[1;31mTypeError\u001b[0m: can only concatenate list (not \"tuple\") to list"
     ]
    }
   ],
   "source": [
    "li = [1, 2, 3, 4, 5]\n",
    "index = 10\n",
    "\n",
    "try:\n",
    "    li[index]\n",
    "except IndexError:\n",
    "    print(\"IndexError\")\n",
    "\n",
    "del li\n",
    "try:\n",
    "    li[index]\n",
    "except IndexError:\n",
    "    print(\"IndexError\")\n",
    "except NameError as ex:\n",
    "    print(\"NameError\", ex)\n",
    "\n",
    "li = [1, 2, 3, 4, 5]\n",
    "\n",
    "try:\n",
    "    li.append(6)\n",
    "except IndexError:\n",
    "    print(\"IndexError\")\n",
    "except Exception as ex:\n",
    "    print(\"other error\", ex)\n",
    "else:\n",
    "    print(\"エラーがなければ実行される\")\n",
    "\n",
    "try:\n",
    "    li + ()\n",
    "except IndexError:\n",
    "    print(\"IndexError\")\n",
    "finally:\n",
    "    print(\"エラーがあってもなくても実行される\")\n"
   ]
  },
  {
   "cell_type": "code",
   "execution_count": 14,
   "metadata": {},
   "outputs": [
    {
     "name": "stdout",
     "output_type": "stream",
     "text": [
      "独自エラーだと、言語のエラーのように重大でないとわかるので使える\n",
      "個数 1\n"
     ]
    }
   ],
   "source": [
    "class MyException(Exception):\n",
    "    pass\n",
    "\n",
    "\n",
    "def func_raise(li):\n",
    "    if len(li) <= 5:\n",
    "        raise MyException(len(li))\n",
    "    return li[0]\n",
    "\n",
    "\n",
    "try:\n",
    "    func_raise([2])\n",
    "except MyException as ex:\n",
    "    print(\"独自エラーだと、言語のエラーのように重大でないとわかるので使える\")\n",
    "    print(\"個数\", ex.args[0])  # argsには、raiseの引数が入る\")\n"
   ]
  },
  {
   "cell_type": "code",
   "execution_count": 15,
   "metadata": {},
   "outputs": [
    {
     "name": "stdout",
     "output_type": "stream",
     "text": [
      "['C:\\\\Users\\\\a22ei01\\\\AppData\\\\Roaming\\\\Python\\\\Python37\\\\site-packages\\\\ipykernel_launcher.py', '--ip=127.0.0.1', '--stdin=9013', '--control=9011', '--hb=9010', '--Session.signature_scheme=\"hmac-sha256\"', '--Session.key=b\"16299bd7-2acc-4326-8714-6334759b885d\"', '--shell=9012', '--transport=\"tcp\"', '--iopub=9014', '--f=c:\\\\Users\\\\a22ei01\\\\AppData\\\\Roaming\\\\jupyter\\\\runtime\\\\kernel-v2-8056F1w0N6YC6jnP.json']\n"
     ]
    }
   ],
   "source": [
    "import sys\n",
    "\n",
    "print(sys.argv)"
   ]
  },
  {
   "cell_type": "code",
   "execution_count": null,
   "metadata": {},
   "outputs": [],
   "source": []
  }
 ],
 "metadata": {
  "kernelspec": {
   "display_name": "Python 3",
   "language": "python",
   "name": "python3"
  },
  "language_info": {
   "codemirror_mode": {
    "name": "ipython",
    "version": 3
   },
   "file_extension": ".py",
   "mimetype": "text/x-python",
   "name": "python",
   "nbconvert_exporter": "python",
   "pygments_lexer": "ipython3",
   "version": "3.7.8"
  },
  "orig_nbformat": 4
 },
 "nbformat": 4,
 "nbformat_minor": 2
}
